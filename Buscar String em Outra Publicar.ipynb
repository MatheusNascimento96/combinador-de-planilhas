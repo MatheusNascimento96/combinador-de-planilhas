{
 "cells": [
  {
   "cell_type": "code",
   "execution_count": 2,
   "id": "a4ed1478-be22-456a-bbba-94b1a21eb166",
   "metadata": {},
   "outputs": [],
   "source": [
    "!pip install rapidfuzz\n",
    "!pip install pandas\n",
    "\n",
    "import pandas as pd\n",
    "from rapidfuzz import process, fuzz\n",
    "\n",
    "\n",
    "#Carregando Base1\n",
    "base1 = pd.read_excel('caminho do arquivo aonde será pesquisado, com o seu nome e extensão', sheet_name=\"nome da aba\", usecols=[\"seleção de colunas\"])\n",
    "\n",
    "#Carregando Base2\n",
    "base2 = pd.read_excel('caminho do arquivo que será pesquisado, com o seu nome e extensão', sheet_name=\"nome da aba\")\n",
    "\n",
    "#Criando Coluna de Chave Caso Precise\n",
    "base1['Chave1'] = base1['nome da coluna'] + '-' + base1['nome da coluna']\n",
    "base2['Chave2'] = base2['nome da coluna'] + '-' + base2['nome da coluna']\n",
    "\n",
    "#Incluindo Índice\n",
    "base1 = base1.reset_index(drop=True)\n",
    "base2 = base2.reset_index(drop=True)\n",
    "\n",
    "matches = []\n",
    "\n",
    "for i, nome in enumerate(base1['nome da coluna aonde será pesquisada']):\n",
    "    match,score, idx = process.extractOne(nome, base2['nome da coluna que será pesquisada'],scorer=fuzz.partial_ratio)\n",
    "    matches.append((i, idx, nome, match, score))\n",
    "\n",
    "df_resultado = pd.DataFrame(matches,columns=[\"idx_base1\",\"idx_base2\",\"Chave1\",\"Chave2\",\"score\"])\n",
    "\n",
    "df_resultado[\"coluna_base1_indice_1\"]=base1.iloc[df_resultado[\"idx_base1\"],1].values\n",
    "\n",
    "base2_completa = base2.copy()\n",
    "df_resultado = df_resultado.join(base2_completa, on=\"idx_base2\", rsuffix=\"_base2\")\n",
    "\n",
    "baseFiltrada = df_resultado[df_resultado[\"score\"]>=90] #Selecionar qual o score de comparação você deseja\n",
    "\n",
    "baseFiltrada.to_excel('arquivo_de_saida.xlsx', index=False)"
   ]
  },
  {
   "cell_type": "code",
   "execution_count": null,
   "id": "41e098f9-00a0-4096-b213-97fd68189aff",
   "metadata": {},
   "outputs": [],
   "source": []
  }
 ],
 "metadata": {
  "kernelspec": {
   "display_name": "Python 3 (ipykernel)",
   "language": "python",
   "name": "python3"
  },
  "language_info": {
   "codemirror_mode": {
    "name": "ipython",
    "version": 3
   },
   "file_extension": ".py",
   "mimetype": "text/x-python",
   "name": "python",
   "nbconvert_exporter": "python",
   "pygments_lexer": "ipython3",
   "version": "3.12.7"
  }
 },
 "nbformat": 4,
 "nbformat_minor": 5
}
